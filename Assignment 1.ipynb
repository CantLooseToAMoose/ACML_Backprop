{
 "cells": [
  {
   "cell_type": "code",
   "id": "initial_id",
   "metadata": {
    "collapsed": true,
    "ExecuteTime": {
     "end_time": "2024-10-31T10:22:04.288772Z",
     "start_time": "2024-10-31T10:22:04.275332Z"
    }
   },
   "source": [
    "import numpy as np\n",
    "\n",
    "# Initiliaze the Data\n",
    "X = np.zeros((8, 8))\n",
    "for i in range(8):\n",
    "    X[i, i] = 1\n",
    "print(X)\n",
    "Y = np.array(X)"
   ],
   "outputs": [
    {
     "name": "stdout",
     "output_type": "stream",
     "text": [
      "[[1. 0. 0. 0. 0. 0. 0. 0.]\n",
      " [0. 1. 0. 0. 0. 0. 0. 0.]\n",
      " [0. 0. 1. 0. 0. 0. 0. 0.]\n",
      " [0. 0. 0. 1. 0. 0. 0. 0.]\n",
      " [0. 0. 0. 0. 1. 0. 0. 0.]\n",
      " [0. 0. 0. 0. 0. 1. 0. 0.]\n",
      " [0. 0. 0. 0. 0. 0. 1. 0.]\n",
      " [0. 0. 0. 0. 0. 0. 0. 1.]]\n"
     ]
    }
   ],
   "execution_count": 25
  },
  {
   "metadata": {
    "ExecuteTime": {
     "end_time": "2024-10-31T10:22:04.335187Z",
     "start_time": "2024-10-31T10:22:04.320715Z"
    }
   },
   "cell_type": "code",
   "source": [
    "# Initialize Network\n",
    "def initializeNetworkWeights(scale=0.01):\n",
    "    W = [np.random.random((3, 8)), np.random.random((8, 3))]\n",
    "    W = [(x - np.ones(x.shape) * 0.5) * scale for x in W]\n",
    "    b = [np.random.random(3), np.random.random(8)]\n",
    "    b = [(x - np.ones(x.shape) * 0.5) * scale for x in b]\n",
    "    return W, b\n",
    "\n",
    "\n",
    "W, b = initializeNetworkWeights()"
   ],
   "id": "fd971a8d6c337ac1",
   "outputs": [],
   "execution_count": 26
  },
  {
   "metadata": {
    "ExecuteTime": {
     "end_time": "2024-10-31T10:22:04.351137Z",
     "start_time": "2024-10-31T10:22:04.336544Z"
    }
   },
   "cell_type": "code",
   "source": [
    "# Define Forward\n",
    "\n",
    "def sigmoid(x):\n",
    "    return 1 / (1 + np.exp(-x))\n",
    "\n",
    "\n",
    "def sigmoidPrime(x):\n",
    "    return sigmoid(x) * (1 - sigmoid(x))\n",
    "\n",
    "\n",
    "def mean_half_sum_squared(X, Y):\n",
    "    return np.linalg.norm(X - Y) ** 2 / 2\n",
    "\n",
    "\n",
    "def forward(X, W, b):\n",
    "    a = X\n",
    "    z_list = []\n",
    "    for w, b in zip(W, b):\n",
    "        z = np.matmul(w, a.T).T + b\n",
    "        z_list.append(z)\n",
    "        a = sigmoid(z)\n",
    "    return a, z_list"
   ],
   "id": "68fdc6b43883736",
   "outputs": [],
   "execution_count": 27
  },
  {
   "metadata": {
    "ExecuteTime": {
     "end_time": "2024-10-31T10:22:04.382085Z",
     "start_time": "2024-10-31T10:22:04.367520Z"
    }
   },
   "cell_type": "code",
   "source": [
    "# Getting Deltas\n",
    "def getDeltas(z_list, Y, W):\n",
    "    delta_list = []\n",
    "    for i in reversed(range(len(z_list))):\n",
    "        if i == len(z_list) - 1:\n",
    "            z = z_list[i]\n",
    "            a = sigmoid(z)\n",
    "            delta = -(Y - a) * sigmoidPrime(z)\n",
    "            delta_list.append(delta)\n",
    "        else:\n",
    "            z = z_list[i]\n",
    "            delta = np.matmul(W[i], delta_list[len(delta_list) - 1].T).T * sigmoidPrime(z)\n",
    "            delta_list.append(delta)\n",
    "    return delta_list\n",
    "\n",
    "# a, z_list = forward(X, W, b)\n",
    "# delta_list=getDeltas(z_list, Y, W)\n",
    "# print(delta_list)"
   ],
   "id": "63de010ed642f644",
   "outputs": [],
   "execution_count": 28
  },
  {
   "metadata": {
    "ExecuteTime": {
     "end_time": "2024-10-31T10:22:04.411960Z",
     "start_time": "2024-10-31T10:22:04.398145Z"
    }
   },
   "cell_type": "code",
   "source": [
    "#Backpropagate\n",
    "def backprop(X, Y, W, b, learning_rate=0.03, weightDecay=0.01):\n",
    "    a, zlist = forward(X, W, b)\n",
    "    delta_list = getDeltas(zlist, Y, W)\n",
    "    # Dont average here!!\n",
    "    # delta_list = [np.average(x, axis=0) for x in delta_list]\n",
    "    delta_list = list(reversed(delta_list))\n",
    "    delta_list = [x.reshape(x.shape[0], x.shape[1], 1) for x in delta_list]\n",
    "    a_list = [sigmoid(x) for x in zlist]\n",
    "    a_list.insert(0, np.array(X))\n",
    "    a_list = [x.reshape(x.shape[0], 1, x.shape[1]) for x in a_list]\n",
    "    for i in range(len(delta_list)):\n",
    "        # derivativeW = (W[i].T * delta_list[i].T).T\n",
    "        derivativeW = sigmoid(a_list[i]) * delta_list[i]\n",
    "        derivativeW = np.average(derivativeW, axis=0)\n",
    "        # derivativeW = delta_list[i] * np.average(sigmoid(zlist[i]), axis=0).reshape(1, -1)\n",
    "        # Average here!!\n",
    "        W[i] = W[i] - learning_rate * derivativeW - W[i] * (weightDecay / len(X))\n",
    "        b[i] = b[i] - learning_rate * np.average(delta_list[i], axis=0)\n",
    "    return W, b\n",
    "\n",
    "\n",
    "W, b = backprop(X, Y, W, b)"
   ],
   "id": "cef4fabcfee05978",
   "outputs": [],
   "execution_count": 29
  },
  {
   "metadata": {
    "ExecuteTime": {
     "end_time": "2024-10-31T10:22:41.001835500Z",
     "start_time": "2024-10-31T10:22:38.075747Z"
    }
   },
   "cell_type": "code",
   "source": [
    "# Batch Gradient Descent\n",
    "def batch_GD(X, Y, epoch=20000, learning_rate=0.003, weightDecay=0.01, scale=0.1):\n",
    "    W, b = initializeNetworkWeights(scale)\n",
    "    print(W)\n",
    "    print(b)\n",
    "    a, zlist = forward(X, W, b)\n",
    "    print(a)\n",
    "    for i in range(epoch):\n",
    "        W, b = backprop(np.copy(X), Y, W, b, learning_rate, weightDecay)\n",
    "        a, z_list = forward(X, W, b)\n",
    "        # print(a)\n",
    "        print(mean_half_sum_squared(a, Y))\n",
    "\n",
    "\n",
    "batch_GD(X, Y)"
   ],
   "id": "cd01f7f9443e8e1a",
   "outputs": [],
   "execution_count": null
  }
 ],
 "metadata": {
  "kernelspec": {
   "display_name": "Python 3",
   "language": "python",
   "name": "python3"
  },
  "language_info": {
   "codemirror_mode": {
    "name": "ipython",
    "version": 2
   },
   "file_extension": ".py",
   "mimetype": "text/x-python",
   "name": "python",
   "nbconvert_exporter": "python",
   "pygments_lexer": "ipython2",
   "version": "2.7.6"
  }
 },
 "nbformat": 4,
 "nbformat_minor": 5
}
