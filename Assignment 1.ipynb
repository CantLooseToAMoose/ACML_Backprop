{
 "cells": [
  {
   "cell_type": "code",
   "id": "initial_id",
   "metadata": {
    "collapsed": true,
    "ExecuteTime": {
     "end_time": "2024-11-04T12:44:03.123131Z",
     "start_time": "2024-11-04T12:44:03.050522Z"
    }
   },
   "source": [
    "import numpy as np\n",
    "\n",
    "# Initiliaze the Data\n",
    "X = np.zeros((8, 8))\n",
    "for i in range(8):\n",
    "    X[i, i] = 1\n",
    "print(X)\n",
    "Y = np.array(X)"
   ],
   "outputs": [
    {
     "name": "stdout",
     "output_type": "stream",
     "text": [
      "[[1. 0. 0. 0. 0. 0. 0. 0.]\n",
      " [0. 1. 0. 0. 0. 0. 0. 0.]\n",
      " [0. 0. 1. 0. 0. 0. 0. 0.]\n",
      " [0. 0. 0. 1. 0. 0. 0. 0.]\n",
      " [0. 0. 0. 0. 1. 0. 0. 0.]\n",
      " [0. 0. 0. 0. 0. 1. 0. 0.]\n",
      " [0. 0. 0. 0. 0. 0. 1. 0.]\n",
      " [0. 0. 0. 0. 0. 0. 0. 1.]]\n"
     ]
    }
   ],
   "execution_count": 1
  },
  {
   "metadata": {
    "ExecuteTime": {
     "end_time": "2024-11-04T12:44:03.292665Z",
     "start_time": "2024-11-04T12:44:03.273032Z"
    }
   },
   "cell_type": "code",
   "source": [
    "# Initialize Network\n",
    "def initializeNetworkWeights(scale=0.01):\n",
    "    W = [np.random.random((3, 8)), np.random.random((8, 3))]\n",
    "    W = [(x - np.ones(x.shape) * 0.5) * scale for x in W]\n",
    "    b = [np.random.random(3), np.random.random(8)]\n",
    "    b = [(x - np.ones(x.shape) * 0.5) * scale for x in b]\n",
    "    return W, b\n",
    "\n",
    "\n",
    "W, b = initializeNetworkWeights()"
   ],
   "id": "fd971a8d6c337ac1",
   "outputs": [],
   "execution_count": 2
  },
  {
   "metadata": {
    "ExecuteTime": {
     "end_time": "2024-11-04T12:44:03.502217Z",
     "start_time": "2024-11-04T12:44:03.495903Z"
    }
   },
   "cell_type": "code",
   "source": [
    "# Define Forward\n",
    "\n",
    "def sigmoid(x):\n",
    "    return 1 / (1 + np.exp(-x))\n",
    "\n",
    "\n",
    "def sigmoidPrime(x):\n",
    "    return sigmoid(x) * (1 - sigmoid(x))\n",
    "\n",
    "\n",
    "def mean_half_sum_squared(X, Y):\n",
    "    return np.linalg.norm(X - Y) ** 2 / 2\n",
    "\n",
    "\n",
    "def forward(X, W, b):\n",
    "    a = X\n",
    "    z_list = []\n",
    "    for w, b in zip(W, b):\n",
    "        z = np.matmul(w, a.T).T + b\n",
    "        z_list.append(z)\n",
    "        a = sigmoid(z)\n",
    "    return a, z_list"
   ],
   "id": "68fdc6b43883736",
   "outputs": [],
   "execution_count": 3
  },
  {
   "metadata": {
    "ExecuteTime": {
     "end_time": "2024-11-04T12:44:03.551985Z",
     "start_time": "2024-11-04T12:44:03.547430Z"
    }
   },
   "cell_type": "code",
   "source": [
    "# Getting Deltas\n",
    "def getDeltas(z_list, Y, W):\n",
    "    delta_list = []\n",
    "    for i in reversed(range(len(z_list))):\n",
    "        if i == len(z_list) - 1:\n",
    "            z = z_list[i]\n",
    "            a = sigmoid(z)\n",
    "            delta = -(Y - a) * sigmoidPrime(z)\n",
    "            delta_list.append(delta)\n",
    "        else:\n",
    "            z = z_list[i]\n",
    "            delta = np.matmul(W[i], delta_list[len(delta_list) - 1].T).T * sigmoidPrime(z)\n",
    "            delta_list.append(delta)\n",
    "    return delta_list\n",
    "\n",
    "# a, z_list = forward(X, W, b)\n",
    "# delta_list=getDeltas(z_list, Y, W)\n",
    "# print(delta_list)"
   ],
   "id": "63de010ed642f644",
   "outputs": [],
   "execution_count": 4
  },
  {
   "metadata": {
    "ExecuteTime": {
     "end_time": "2024-11-04T12:44:03.643684Z",
     "start_time": "2024-11-04T12:44:03.635668Z"
    }
   },
   "cell_type": "code",
   "source": [
    "#Backpropagate\n",
    "def backprop(X, Y, W, b, learning_rate=0.03, weightDecay=0.01):\n",
    "    a, zlist = forward(X, W, b)\n",
    "    delta_list = getDeltas(zlist, Y, W)\n",
    "    # Dont average here!!\n",
    "    # delta_list = [np.average(x, axis=0) for x in delta_list]\n",
    "    delta_list = list(reversed(delta_list))\n",
    "    delta_list = [x.reshape(x.shape[0], x.shape[1], 1) for x in delta_list]\n",
    "    a_list = [sigmoid(x) for x in zlist]\n",
    "    a_list.insert(0, np.array(X))\n",
    "    a_list = [x.reshape(x.shape[0], 1, x.shape[1]) for x in a_list]\n",
    "    for i in range(len(delta_list)):\n",
    "        # derivativeW = (W[i].T * delta_list[i].T).T\n",
    "        derivativeW = sigmoid(a_list[i]) * delta_list[i]\n",
    "        derivativeW = np.average(derivativeW, axis=0)\n",
    "        # derivativeW = delta_list[i] * np.average(sigmoid(zlist[i]), axis=0).reshape(1, -1)\n",
    "        # Average here!!\n",
    "        W[i] = W[i] - learning_rate * derivativeW - W[i] * (weightDecay / len(X))\n",
    "        b[i] = b[i] - learning_rate * np.average(delta_list[i], axis=0)\n",
    "    return W, b\n",
    "\n",
    "\n",
    "W, b = backprop(X, Y, W, b)"
   ],
   "id": "cef4fabcfee05978",
   "outputs": [],
   "execution_count": 5
  },
  {
   "metadata": {
    "ExecuteTime": {
     "end_time": "2024-11-04T12:44:03.966421Z",
     "start_time": "2024-11-04T12:44:03.694927Z"
    }
   },
   "cell_type": "code",
   "source": [
    "# Batch Gradient Descent\n",
    "def batch_GD(X, Y, epoch=20000, learning_rate=0.003, weightDecay=0.01, scale=0.1):\n",
    "    W, b = initializeNetworkWeights(scale)\n",
    "    print(W)\n",
    "    print(b)\n",
    "    a, zlist = forward(X, W, b)\n",
    "    print(a)\n",
    "    for i in range(epoch):\n",
    "        W, b = backprop(np.copy(X), Y, W, b, learning_rate, weightDecay)\n",
    "        a, z_list = forward(X, W, b)\n",
    "        # print(a)\n",
    "        print(mean_half_sum_squared(a, Y))\n",
    "\n",
    "\n",
    "batch_GD(X, Y)"
   ],
   "id": "cd01f7f9443e8e1a",
   "outputs": [
    {
     "name": "stdout",
     "output_type": "stream",
     "text": [
      "[array([[-0.02884967,  0.01626814, -0.02866257, -0.03851662, -0.01578516,\n",
      "        -0.00765596, -0.0130856 ,  0.01842446],\n",
      "       [ 0.0173523 ,  0.01951856, -0.03806245,  0.00246673, -0.04376163,\n",
      "        -0.0437161 , -0.02015557,  0.00042974],\n",
      "       [-0.02351271,  0.04180304, -0.02278485, -0.00900299, -0.02791579,\n",
      "         0.01286381,  0.00340044, -0.01086318]]), array([[-0.04096448, -0.04727452,  0.04292843],\n",
      "       [-0.04654258,  0.035243  ,  0.01924935],\n",
      "       [-0.0274557 , -0.04268283,  0.02597722],\n",
      "       [-0.03051851, -0.02265094, -0.01780529],\n",
      "       [ 0.03243378, -0.04837805,  0.00586708],\n",
      "       [ 0.03840082, -0.03773514,  0.01554658],\n",
      "       [-0.04718543,  0.00073741, -0.01037003],\n",
      "       [ 0.00765437,  0.01153749, -0.0125006 ]])]\n",
      "[array([-0.02598892,  0.0341803 , -0.04056249]), array([-0.00098126, -0.03966472, -0.02267543,  0.00054327,  0.01187115,\n",
      "       -0.01726519, -0.02078182,  0.01472969])]\n",
      "[[0.49390745 0.49127433 0.48866556 0.49136775 0.50141773 0.49739493\n",
      "  0.48791022 0.50457967]\n",
      " [0.49396075 0.49122646 0.48868839 0.49120604 0.50152656 0.49756152\n",
      "  0.48773509 0.5045518 ]\n",
      " [0.4940726  0.49115266 0.48881415 0.49144499 0.50158589 0.49752675\n",
      "  0.48790665 0.50453924]\n",
      " [0.49401502 0.49128709 0.48874532 0.49139109 0.50144845 0.49742092\n",
      "  0.48792861 0.50455299]\n",
      " [0.49404274 0.49109652 0.48879895 0.49143422 0.50162733 0.4975661\n",
      "  0.48787177 0.50454529]\n",
      " [0.49413113 0.49112201 0.48885103 0.49137332 0.50165861 0.49762509\n",
      "  0.48782142 0.50451737]\n",
      " [0.49405004 0.49117829 0.48878216 0.49136085 0.50157291 0.49754731\n",
      "  0.48784463 0.50453916]\n",
      " [0.49387034 0.49111485 0.48865012 0.49128751 0.50156931 0.49756053\n",
      "  0.48776196 0.50458021]]\n"
     ]
    },
    {
     "ename": "ValueError",
     "evalue": "operands could not be broadcast together with shapes (8,3) (3,3) ",
     "output_type": "error",
     "traceback": [
      "\u001B[0;31m---------------------------------------------------------------------------\u001B[0m",
      "\u001B[0;31mValueError\u001B[0m                                Traceback (most recent call last)",
      "Cell \u001B[0;32mIn[6], line 15\u001B[0m\n\u001B[1;32m     11\u001B[0m         \u001B[38;5;66;03m# print(a)\u001B[39;00m\n\u001B[1;32m     12\u001B[0m         \u001B[38;5;28mprint\u001B[39m(mean_half_sum_squared(a, Y))\n\u001B[0;32m---> 15\u001B[0m \u001B[43mbatch_GD\u001B[49m\u001B[43m(\u001B[49m\u001B[43mX\u001B[49m\u001B[43m,\u001B[49m\u001B[43m \u001B[49m\u001B[43mY\u001B[49m\u001B[43m)\u001B[49m\n",
      "Cell \u001B[0;32mIn[6], line 10\u001B[0m, in \u001B[0;36mbatch_GD\u001B[0;34m(X, Y, epoch, learning_rate, weightDecay, scale)\u001B[0m\n\u001B[1;32m      8\u001B[0m \u001B[38;5;28;01mfor\u001B[39;00m i \u001B[38;5;129;01min\u001B[39;00m \u001B[38;5;28mrange\u001B[39m(epoch):\n\u001B[1;32m      9\u001B[0m     W, b \u001B[38;5;241m=\u001B[39m backprop(np\u001B[38;5;241m.\u001B[39mcopy(X), Y, W, b, learning_rate, weightDecay)\n\u001B[0;32m---> 10\u001B[0m     a, z_list \u001B[38;5;241m=\u001B[39m \u001B[43mforward\u001B[49m\u001B[43m(\u001B[49m\u001B[43mX\u001B[49m\u001B[43m,\u001B[49m\u001B[43m \u001B[49m\u001B[43mW\u001B[49m\u001B[43m,\u001B[49m\u001B[43m \u001B[49m\u001B[43mb\u001B[49m\u001B[43m)\u001B[49m\n\u001B[1;32m     11\u001B[0m     \u001B[38;5;66;03m# print(a)\u001B[39;00m\n\u001B[1;32m     12\u001B[0m     \u001B[38;5;28mprint\u001B[39m(mean_half_sum_squared(a, Y))\n",
      "Cell \u001B[0;32mIn[3], line 19\u001B[0m, in \u001B[0;36mforward\u001B[0;34m(X, W, b)\u001B[0m\n\u001B[1;32m     17\u001B[0m z_list \u001B[38;5;241m=\u001B[39m []\n\u001B[1;32m     18\u001B[0m \u001B[38;5;28;01mfor\u001B[39;00m w, b \u001B[38;5;129;01min\u001B[39;00m \u001B[38;5;28mzip\u001B[39m(W, b):\n\u001B[0;32m---> 19\u001B[0m     z \u001B[38;5;241m=\u001B[39m \u001B[43mnp\u001B[49m\u001B[38;5;241;43m.\u001B[39;49m\u001B[43mmatmul\u001B[49m\u001B[43m(\u001B[49m\u001B[43mw\u001B[49m\u001B[43m,\u001B[49m\u001B[43m \u001B[49m\u001B[43ma\u001B[49m\u001B[38;5;241;43m.\u001B[39;49m\u001B[43mT\u001B[49m\u001B[43m)\u001B[49m\u001B[38;5;241;43m.\u001B[39;49m\u001B[43mT\u001B[49m\u001B[43m \u001B[49m\u001B[38;5;241;43m+\u001B[39;49m\u001B[43m \u001B[49m\u001B[43mb\u001B[49m\n\u001B[1;32m     20\u001B[0m     z_list\u001B[38;5;241m.\u001B[39mappend(z)\n\u001B[1;32m     21\u001B[0m     a \u001B[38;5;241m=\u001B[39m sigmoid(z)\n",
      "\u001B[0;31mValueError\u001B[0m: operands could not be broadcast together with shapes (8,3) (3,3) "
     ]
    }
   ],
   "execution_count": 6
  }
 ],
 "metadata": {
  "kernelspec": {
   "display_name": "Python 3",
   "language": "python",
   "name": "python3"
  },
  "language_info": {
   "codemirror_mode": {
    "name": "ipython",
    "version": 2
   },
   "file_extension": ".py",
   "mimetype": "text/x-python",
   "name": "python",
   "nbconvert_exporter": "python",
   "pygments_lexer": "ipython2",
   "version": "2.7.6"
  }
 },
 "nbformat": 4,
 "nbformat_minor": 5
}
